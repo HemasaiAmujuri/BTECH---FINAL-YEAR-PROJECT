{
  "cells": [
    {
      "cell_type": "code",
      "execution_count": 1,
      "metadata": {
        "colab": {
          "base_uri": "https://localhost:8080/"
        },
        "id": "fcYGCLX1xvTb",
        "outputId": "949967b0-0faa-448f-f02a-c8473d847e59"
      },
      "outputs": [
        {
          "output_type": "stream",
          "name": "stdout",
          "text": [
            "Requirement already satisfied: kaggle in /usr/local/lib/python3.10/dist-packages (1.5.16)\n",
            "Requirement already satisfied: six>=1.10 in /usr/local/lib/python3.10/dist-packages (from kaggle) (1.16.0)\n",
            "Requirement already satisfied: certifi in /usr/local/lib/python3.10/dist-packages (from kaggle) (2024.2.2)\n",
            "Requirement already satisfied: python-dateutil in /usr/local/lib/python3.10/dist-packages (from kaggle) (2.8.2)\n",
            "Requirement already satisfied: requests in /usr/local/lib/python3.10/dist-packages (from kaggle) (2.31.0)\n",
            "Requirement already satisfied: tqdm in /usr/local/lib/python3.10/dist-packages (from kaggle) (4.66.2)\n",
            "Requirement already satisfied: python-slugify in /usr/local/lib/python3.10/dist-packages (from kaggle) (8.0.4)\n",
            "Requirement already satisfied: urllib3 in /usr/local/lib/python3.10/dist-packages (from kaggle) (2.0.7)\n",
            "Requirement already satisfied: bleach in /usr/local/lib/python3.10/dist-packages (from kaggle) (6.1.0)\n",
            "Requirement already satisfied: webencodings in /usr/local/lib/python3.10/dist-packages (from bleach->kaggle) (0.5.1)\n",
            "Requirement already satisfied: text-unidecode>=1.3 in /usr/local/lib/python3.10/dist-packages (from python-slugify->kaggle) (1.3)\n",
            "Requirement already satisfied: charset-normalizer<4,>=2 in /usr/local/lib/python3.10/dist-packages (from requests->kaggle) (3.3.2)\n",
            "Requirement already satisfied: idna<4,>=2.5 in /usr/local/lib/python3.10/dist-packages (from requests->kaggle) (3.6)\n"
          ]
        }
      ],
      "source": [
        "!pip install kaggle"
      ]
    },
    {
      "cell_type": "code",
      "execution_count": 2,
      "metadata": {
        "id": "7S1YrqKm8iEH"
      },
      "outputs": [],
      "source": [
        "!mkdir -p ~/.kaggle\n",
        "!cp kaggle.json ~/.kaggle/\n",
        "!chmod 600 ~/.kaggle/kaggle.json"
      ]
    },
    {
      "cell_type": "code",
      "execution_count": 3,
      "metadata": {
        "colab": {
          "base_uri": "https://localhost:8080/"
        },
        "id": "aY4o7Y6PNDHR",
        "outputId": "cc32624b-5fc4-4432-a2fe-bf2de3bbe923"
      },
      "outputs": [
        {
          "output_type": "stream",
          "name": "stdout",
          "text": [
            "403 - Forbidden - Permission 'competitions.participate' was denied\n"
          ]
        }
      ],
      "source": [
        "!kaggle competitions download -c traffic-sign-recognition"
      ]
    },
    {
      "cell_type": "code",
      "execution_count": 3,
      "metadata": {
        "id": "dChhz_31NGeW"
      },
      "outputs": [],
      "source": []
    },
    {
      "cell_type": "code",
      "execution_count": 4,
      "metadata": {
        "colab": {
          "base_uri": "https://localhost:8080/"
        },
        "id": "3-5rSsxswhBy",
        "outputId": "bf7d8853-0b9b-465a-debe-64e49d648b08"
      },
      "outputs": [
        {
          "output_type": "stream",
          "name": "stdout",
          "text": [
            "Downloading gtsrb-german-traffic-sign.zip to /content\n",
            " 98% 598M/612M [00:04<00:00, 179MB/s]\n",
            "100% 612M/612M [00:04<00:00, 142MB/s]\n"
          ]
        }
      ],
      "source": [
        "  #Downloading and unzipping the dataset\n",
        "!kaggle datasets download -d meowmeowmeowmeowmeow/gtsrb-german-traffic-sign\n",
        "!unzip -q /content/gtsrb-german-traffic-sign.zip -d Data"
      ]
    },
    {
      "cell_type": "code",
      "execution_count": 5,
      "metadata": {
        "id": "iAnGivZMHsQg"
      },
      "outputs": [],
      "source": [
        "import numpy as np\n",
        "import pandas as pd\n",
        "import matplotlib.pyplot as plt\n",
        "import cv2\n",
        "import tensorflow as tf\n",
        "from PIL import Image\n",
        "import os\n",
        "os.chdir('/content/Data')\n",
        "from sklearn.model_selection import train_test_split\n",
        "from keras.utils import to_categorical\n",
        "from keras.models import Sequential, load_model\n",
        "from keras.layers import Conv2D, MaxPool2D, Dense, Flatten, Dropout"
      ]
    },
    {
      "cell_type": "code",
      "execution_count": 6,
      "metadata": {
        "colab": {
          "base_uri": "https://localhost:8080/"
        },
        "id": "hZTMEFgyIB6u",
        "outputId": "a7fe12e0-5126-4891-b738-70d1af4e72be"
      },
      "outputs": [
        {
          "output_type": "stream",
          "name": "stdout",
          "text": [
            "/content/Data\n"
          ]
        }
      ],
      "source": [
        "datas = []\n",
        "labels = []\n",
        "# We have 43 Classes\n",
        "classes = 43\n",
        "cur_path = os.getcwd()\n",
        "print(cur_path)"
      ]
    },
    {
      "cell_type": "code",
      "execution_count": 6,
      "metadata": {
        "id": "qlzpym3rNA5a"
      },
      "outputs": [],
      "source": []
    },
    {
      "cell_type": "markdown",
      "metadata": {
        "id": "JPYIlHc_ofFX"
      },
      "source": [
        "## preprocessing the **images**"
      ]
    },
    {
      "cell_type": "code",
      "execution_count": 7,
      "metadata": {
        "id": "y0VkkR8lDQZn"
      },
      "outputs": [],
      "source": [
        "for i in range(classes):\n",
        "    path = os.path.join(cur_path, 'train', str(i))  # Highlighted change: Using os.path.join()\n",
        "    images = os.listdir(path)\n",
        "    for a in images:\n",
        "        try:\n",
        "            image = Image.open(os.path.join(path, a))  # Highlighted change: Using os.path.join()\n",
        "            image = image.resize((30, 30))\n",
        "            image = np.array(image)\n",
        "            datas.append(image)\n",
        "\n",
        "            labels.append(i)\n",
        "        except Exception as e:\n",
        "            print(e)\n",
        "\n",
        "# Convert lists into numpy arrays\n",
        "datas = np.array(datas)  # Highlighted change: Directly converting lists to numpy arrays\n",
        "labels = np.array(labels)  # Highlighted change: Directly converting lists to numpy arrays"
      ]
    },
    {
      "cell_type": "code",
      "execution_count": null,
      "metadata": {
        "id": "qqOczvKPIIKu"
      },
      "outputs": [],
      "source": [
        "print(datas)"
      ]
    },
    {
      "cell_type": "code",
      "execution_count": 9,
      "metadata": {
        "id": "BgImgC0qIf-p"
      },
      "outputs": [],
      "source": [
        "# for i in range(classes):\n",
        "#     path = os.path.join(cur_path,'train',str(i))\n",
        "#     images = os.listdir(path)\n",
        "#     print(len(images))\n",
        "#     for a in images:\n",
        "#         try:\n",
        "#             image = Image.open(path + '//'+ a)\n",
        "#             image = image.resize((30,30))\n",
        "#             image = np.array(image)\n",
        "#             data.append(image)\n",
        "#             labels.append(i)\n",
        "#         except Exception as e:\n",
        "#             print(e)\n",
        "\n",
        "# for i in range(classes):\n",
        "#     path = os.path.join(cur_path, 'train', str(i))\n",
        "#     images = os.listdir(path)\n",
        "#     # print(len(images))\n",
        "#     for a in images:\n",
        "#         try:\n",
        "#             image = Image.open(os.path.join(path, a))  # Use os.path.join for path concatenation\n",
        "#             image = image.resize((30, 30))\n",
        "#             image = np.array(image)\n",
        "#             data.append(image)\n",
        "#             labels.append(i)\n",
        "#             print(labels)\n",
        "#         except Exception as e:\n",
        "#             print(f\"Error processing {os.path.join(path, a)}:\", e)\n",
        "\n",
        "# data = np.array(data)\n",
        "# labels = np.array(labels)\n"
      ]
    },
    {
      "cell_type": "code",
      "execution_count": 10,
      "metadata": {
        "colab": {
          "base_uri": "https://localhost:8080/"
        },
        "id": "bBylIzjF98Fs",
        "outputId": "daa87481-4bc6-4cf0-90ac-d61a596e65ae"
      },
      "outputs": [
        {
          "output_type": "stream",
          "name": "stdout",
          "text": [
            "39209\n"
          ]
        }
      ],
      "source": [
        "print(len(labels))"
      ]
    },
    {
      "cell_type": "code",
      "execution_count": 11,
      "metadata": {
        "colab": {
          "base_uri": "https://localhost:8080/"
        },
        "id": "56ELsAbco0hb",
        "outputId": "2650dd73-55d3-4661-ddc2-78c2db3243f3"
      },
      "outputs": [
        {
          "output_type": "stream",
          "name": "stdout",
          "text": [
            "39209\n"
          ]
        }
      ],
      "source": [
        "# rough\n",
        "k=0\n",
        "for i in range(classes):\n",
        "  ranga = os.path.join(cur_path,'train',str(i))\n",
        "  imgs = os.listdir(ranga)\n",
        "  for a in imgs:\n",
        "    k+=1\n",
        "print(k)# if this \"train\":39209\n",
        "        # if this \"Train\":39209\n",
        "        # train + Train = 78418\n"
      ]
    },
    {
      "cell_type": "markdown",
      "metadata": {
        "id": "icjQNlSjomEI"
      },
      "source": [
        "\n",
        "# # Converting lists into numpy arrays\n"
      ]
    },
    {
      "cell_type": "code",
      "execution_count": 12,
      "metadata": {
        "colab": {
          "base_uri": "https://localhost:8080/"
        },
        "id": "BOgZ0858oOVU",
        "outputId": "28e0ed0f-9364-4460-d201-3e64af816543"
      },
      "outputs": [
        {
          "output_type": "stream",
          "name": "stdout",
          "text": [
            "(39209, 30, 30, 3) (39209,)\n"
          ]
        }
      ],
      "source": [
        "print(datas.shape,labels.shape)"
      ]
    },
    {
      "cell_type": "code",
      "execution_count": 13,
      "metadata": {
        "id": "84TsEpeTqac2"
      },
      "outputs": [],
      "source": [
        "np.save('/content/',datas)\n",
        "np.save('/content/',labels)\n"
      ]
    },
    {
      "cell_type": "code",
      "execution_count": 14,
      "metadata": {
        "id": "rCx1It5zJxKu"
      },
      "outputs": [],
      "source": [
        "from sklearn.model_selection import train_test_split\n",
        "x_train,x_test,y_train,y_test = train_test_split(datas,labels,test_size = 0.2,random_state = 0)"
      ]
    },
    {
      "cell_type": "markdown",
      "source": [],
      "metadata": {
        "id": "JF4a2ZEnDMpq"
      }
    },
    {
      "cell_type": "code",
      "execution_count": 15,
      "metadata": {
        "colab": {
          "base_uri": "https://localhost:8080/"
        },
        "id": "HQp-FnE50Zu1",
        "outputId": "52791021-1e04-46ed-c3c8-105c37c19fbc"
      },
      "outputs": [
        {
          "output_type": "stream",
          "name": "stdout",
          "text": [
            "(31367, 30, 30, 3) (31367,) (7842, 30, 30, 3) (7842,)\n"
          ]
        }
      ],
      "source": [
        "print(x_train.shape,y_train.shape,x_test.shape,y_test.shape)"
      ]
    },
    {
      "cell_type": "markdown",
      "metadata": {
        "id": "8CdeRAIm1a-p"
      },
      "source": [
        "##CONVERT LABELS TO ONE HOT ENCODING"
      ]
    },
    {
      "cell_type": "code",
      "execution_count": 16,
      "metadata": {
        "id": "nWISGUk51OYG"
      },
      "outputs": [],
      "source": [
        "#from keras.utils import to_categorical\n",
        "y_train = to_categorical(y_train,43)\n",
        "y_test = to_categorical(y_test,43)"
      ]
    },
    {
      "cell_type": "code",
      "execution_count": 17,
      "metadata": {
        "id": "vDLaDqZt1sMA"
      },
      "outputs": [],
      "source": [
        "from  tensorflow.keras.models import Sequential\n",
        "model = Sequential()"
      ]
    },
    {
      "cell_type": "markdown",
      "metadata": {
        "id": "dak09lDA1z-8"
      },
      "source": [
        "##model building"
      ]
    },
    {
      "cell_type": "code",
      "execution_count": 18,
      "metadata": {
        "id": "9KGzrNPR1xEj"
      },
      "outputs": [],
      "source": [
        "model.add(Conv2D(filters = 32,kernel_size = (5,5),activation = 'relu',input_shape = x_train.shape[1:]))\n",
        "model.add(Conv2D(filters = 32,kernel_size = (5,5),activation = 'relu'))\n",
        "model.add(MaxPool2D(pool_size = (2,2)))\n",
        "model.add(Dropout(rate = 0.25))\n",
        "model.add(Conv2D(filters = 64,kernel_size = (3,3),activation = 'relu'))\n",
        "model.add(Conv2D(filters = 64,kernel_size = (3,3),activation = 'relu'))\n",
        "model.add(MaxPool2D(pool_size = (2,2)))\n",
        "model.add(Dropout(rate = 0.25))\n",
        "model.add(Flatten())\n",
        "model.add(Dense(256, activation = 'relu'))\n",
        "model.add(Dropout(rate = 0.5))\n",
        "#we have 43 classes thats why we define 43 in dense\n",
        "model.add(Dense(43, activation = 'softmax'))"
      ]
    },
    {
      "cell_type": "markdown",
      "metadata": {
        "id": "4ovq2yvy2BM5"
      },
      "source": [
        "##compiling the model"
      ]
    },
    {
      "cell_type": "code",
      "execution_count": 19,
      "metadata": {
        "id": "XMWupMTK158e"
      },
      "outputs": [],
      "source": [
        "\n",
        "model.compile(loss = 'categorical_crossentropy',optimizer = 'Adam',metrics = ['accuracy'])"
      ]
    },
    {
      "cell_type": "code",
      "execution_count": 20,
      "metadata": {
        "colab": {
          "base_uri": "https://localhost:8080/"
        },
        "id": "V7x-WhK82FUE",
        "outputId": "56ab1388-1368-47cb-be05-928081d37caf"
      },
      "outputs": [
        {
          "output_type": "stream",
          "name": "stdout",
          "text": [
            "Epoch 1/20\n",
            "981/981 [==============================] - 114s 115ms/step - loss: 1.9191 - accuracy: 0.5148 - val_loss: 0.5793 - val_accuracy: 0.8690\n",
            "Epoch 2/20\n",
            "981/981 [==============================] - 120s 123ms/step - loss: 0.8344 - accuracy: 0.7612 - val_loss: 0.3313 - val_accuracy: 0.9072\n",
            "Epoch 3/20\n",
            "981/981 [==============================] - 113s 115ms/step - loss: 0.6417 - accuracy: 0.8099 - val_loss: 0.2290 - val_accuracy: 0.9399\n",
            "Epoch 4/20\n",
            "981/981 [==============================] - 112s 114ms/step - loss: 0.5557 - accuracy: 0.8360 - val_loss: 0.2235 - val_accuracy: 0.9314\n",
            "Epoch 5/20\n",
            "981/981 [==============================] - 114s 116ms/step - loss: 0.5197 - accuracy: 0.8451 - val_loss: 0.1835 - val_accuracy: 0.9463\n",
            "Epoch 6/20\n",
            "981/981 [==============================] - 112s 114ms/step - loss: 0.4608 - accuracy: 0.8613 - val_loss: 0.1680 - val_accuracy: 0.9518\n",
            "Epoch 7/20\n",
            "981/981 [==============================] - 113s 115ms/step - loss: 0.4579 - accuracy: 0.8646 - val_loss: 0.1987 - val_accuracy: 0.9407\n",
            "Epoch 8/20\n",
            "981/981 [==============================] - 124s 126ms/step - loss: 0.4038 - accuracy: 0.8784 - val_loss: 0.1107 - val_accuracy: 0.9677\n",
            "Epoch 9/20\n",
            "981/981 [==============================] - 116s 118ms/step - loss: 0.3883 - accuracy: 0.8816 - val_loss: 0.1255 - val_accuracy: 0.9616\n",
            "Epoch 10/20\n",
            "981/981 [==============================] - 114s 116ms/step - loss: 0.3896 - accuracy: 0.8839 - val_loss: 0.1040 - val_accuracy: 0.9704\n",
            "Epoch 11/20\n",
            "981/981 [==============================] - 119s 121ms/step - loss: 0.3649 - accuracy: 0.8914 - val_loss: 0.1068 - val_accuracy: 0.9685\n",
            "Epoch 12/20\n",
            "981/981 [==============================] - 115s 117ms/step - loss: 0.3553 - accuracy: 0.8924 - val_loss: 0.0984 - val_accuracy: 0.9717\n",
            "Epoch 13/20\n",
            "981/981 [==============================] - 117s 119ms/step - loss: 0.3566 - accuracy: 0.8921 - val_loss: 0.1005 - val_accuracy: 0.9712\n",
            "Epoch 14/20\n",
            "981/981 [==============================] - 115s 118ms/step - loss: 0.3571 - accuracy: 0.8942 - val_loss: 0.1060 - val_accuracy: 0.9704\n",
            "Epoch 15/20\n",
            "981/981 [==============================] - 114s 116ms/step - loss: 0.3501 - accuracy: 0.8961 - val_loss: 0.1281 - val_accuracy: 0.9610\n",
            "Epoch 16/20\n",
            "981/981 [==============================] - 111s 113ms/step - loss: 0.3472 - accuracy: 0.8948 - val_loss: 0.0887 - val_accuracy: 0.9740\n",
            "Epoch 17/20\n",
            "981/981 [==============================] - 114s 116ms/step - loss: 0.3427 - accuracy: 0.8957 - val_loss: 0.0824 - val_accuracy: 0.9751\n",
            "Epoch 18/20\n",
            "981/981 [==============================] - 113s 116ms/step - loss: 0.3270 - accuracy: 0.9043 - val_loss: 0.0953 - val_accuracy: 0.9746\n",
            "Epoch 19/20\n",
            "981/981 [==============================] - 116s 118ms/step - loss: 0.3179 - accuracy: 0.9031 - val_loss: 0.0822 - val_accuracy: 0.9799\n",
            "Epoch 20/20\n",
            "981/981 [==============================] - 135s 138ms/step - loss: 0.3337 - accuracy: 0.9004 - val_loss: 0.0884 - val_accuracy: 0.9754\n"
          ]
        }
      ],
      "source": [
        "epochs = 20\n",
        "history=model.fit(x_train , y_train , batch_size = 32 , epochs = epochs, validation_data = (x_test , y_test))"
      ]
    },
    {
      "cell_type": "code",
      "source": [
        "print(len(datas))"
      ],
      "metadata": {
        "colab": {
          "base_uri": "https://localhost:8080/"
        },
        "id": "3PnScV3vJQr3",
        "outputId": "18eaa842-687b-47f7-8031-d7e60fba69e2"
      },
      "execution_count": 21,
      "outputs": [
        {
          "output_type": "stream",
          "name": "stdout",
          "text": [
            "39209\n"
          ]
        }
      ]
    },
    {
      "cell_type": "markdown",
      "source": [
        "# accuracy"
      ],
      "metadata": {
        "id": "MXYxCH2eIMeX"
      }
    },
    {
      "cell_type": "code",
      "execution_count": 22,
      "metadata": {
        "id": "5AFMDkAz2KMp",
        "colab": {
          "base_uri": "https://localhost:8080/",
          "height": 472
        },
        "outputId": "7f160e92-a396-419c-dd8e-3c793ccffbef"
      },
      "outputs": [
        {
          "output_type": "display_data",
          "data": {
            "text/plain": [
              "<Figure size 640x480 with 1 Axes>"
            ],
            "image/png": "[encoded data removed]"
          },
          "metadata": {}
        }
      ],
      "source": [
        "plt.figure(0)\n",
        "plt.plot(history.history['accuracy'], label='training accuracy')\n",
        "plt.plot(history.history['val_accuracy'], label='val accuracy')\n",
        "plt.title('Accuracy')\n",
        "plt.xlabel('epochs')\n",
        "plt.ylabel('accuracy')\n",
        "plt.legend()\n",
        "plt.show()"
      ]
    },
    {
      "cell_type": "code",
      "source": [
        "# Loss\n",
        "plt.plot(history.history['loss'], label='training loss')\n",
        "plt.plot(history.history['val_loss'], label='val loss')\n",
        "plt.title('Loss')\n",
        "plt.xlabel('epochs')\n",
        "plt.ylabel('loss')\n",
        "plt.legend()\n",
        "plt.show()"
      ],
      "metadata": {
        "colab": {
          "base_uri": "https://localhost:8080/",
          "height": 472
        },
        "id": "8cm9i02UIN2x",
        "outputId": "9f6caf5e-e65e-40ff-ff11-f74ce41b9059"
      },
      "execution_count": 23,
      "outputs": [
        {
          "output_type": "display_data",
          "data": {
            "text/plain": [
              "<Figure size 640x480 with 1 Axes>"
            ],
            "image/png": "[encoded data removed]"
          },
          "metadata": {}
        }
      ]
    },
    {
      "cell_type": "markdown",
      "source": [
        "##LEt's do testing on Test data"
      ],
      "metadata": {
        "id": "J9iP2iZZUks1"
      }
    },
    {
      "cell_type": "code",
      "source": [
        "def testing(testcsv):\n",
        "    y_test = pd.read_csv(testcsv)\n",
        "    label = y_test[\"ClassId\"].values\n",
        "    imgs = y_test[\"Path\"].values\n",
        "    data=[]\n",
        "    for img in imgs:\n",
        "        image = Image.open(img)\n",
        "        image = image.resize((30,30))\n",
        "        data.append(np.array(image))\n",
        "    X_test=np.array(data)\n",
        "    return X_test,label\n",
        "X_test, label = testing('/content/Data/Test.csv')\n",
        "Y_pred = np.argmax(model.predict(X_test), axis=1)\n",
        "Y_pred"
      ],
      "metadata": {
        "colab": {
          "base_uri": "https://localhost:8080/"
        },
        "id": "IzIzn5YkUV_W",
        "outputId": "908a9a8c-8581-40b3-ff88-d94932893869"
      },
      "execution_count": 24,
      "outputs": [
        {
          "output_type": "stream",
          "name": "stdout",
          "text": [
            "395/395 [==============================] - 10s 26ms/step\n"
          ]
        },
        {
          "output_type": "execute_result",
          "data": {
            "text/plain": [
              "array([16,  1, 38, ...,  5,  7, 10])"
            ]
          },
          "metadata": {},
          "execution_count": 24
        }
      ]
    },
    {
      "cell_type": "code",
      "source": [
        "from sklearn.metrics import accuracy_score\n",
        "print(accuracy_score(label, Y_pred))"
      ],
      "metadata": {
        "colab": {
          "base_uri": "https://localhost:8080/"
        },
        "id": "N3U_8H0UUzwz",
        "outputId": "3ba110fe-36ad-40be-8ab0-8dc8a88c940a"
      },
      "execution_count": 25,
      "outputs": [
        {
          "output_type": "stream",
          "name": "stdout",
          "text": [
            "0.9259699129057799\n"
          ]
        }
      ]
    },
    {
      "cell_type": "markdown",
      "source": [
        "##save the model"
      ],
      "metadata": {
        "id": "kAk4CQeOWqyi"
      }
    },
    {
      "cell_type": "code",
      "source": [
        "# model.save(\"./content/TSR.h5\")"
      ],
      "metadata": {
        "id": "YIjIUAMaVshO"
      },
      "execution_count": 26,
      "outputs": []
    },
    {
      "cell_type": "code",
      "source": [
        "import pickle\n",
        "pickle.dump(model,open('/content/the_saved_model.sav','wb'))"
      ],
      "metadata": {
        "id": "Ue65ti0AWs_2"
      },
      "execution_count": 27,
      "outputs": []
    },
    {
      "cell_type": "code",
      "source": [
        "# Load the Model\n",
        "# import os\n",
        "# os.chdir('/content/Data')\n",
        "# from keras.models import load_model\n",
        "# loaded_model = load_model('/content/the_saved_model.sav')\n",
        "loaded_model=pickle.load(open('/content/the_saved_model.sav','rb'))"
      ],
      "metadata": {
        "id": "NzDaqHR4YLUc"
      },
      "execution_count": 29,
      "outputs": []
    },
    {
      "cell_type": "code",
      "source": [
        "# Classes of trafic signs\n",
        "classes = { 0:'Speed limit (20km/h)',\n",
        "            1:'Speed limit (30km/h)',\n",
        "            2:'Speed limit (50km/h)',\n",
        "            3:'Speed limit (60km/h)',\n",
        "            4:'Speed limit (70km/h)',\n",
        "            5:'Speed limit (80km/h)',\n",
        "            6:'End of speed limit (80km/h)',\n",
        "            7:'Speed limit (100km/h)',\n",
        "            8:'Speed limit (120km/h)',\n",
        "            9:'No passing',\n",
        "            10:'No passing veh over 3.5 tons',\n",
        "            11:'Right-of-way at intersection',\n",
        "            12:'Priority road',\n",
        "            13:'Yield',\n",
        "            14:'Stop',\n",
        "            15:'No vehicles',\n",
        "            16:'Veh > 3.5 tons prohibited',\n",
        "            17:'No entry',\n",
        "            18:'General caution',\n",
        "            19:'Dangerous curve left',\n",
        "            20:'Dangerous curve right',\n",
        "            21:'Double curve',\n",
        "            22:'Bumpy road',\n",
        "            23:'Slippery road',\n",
        "            24:'Road narrows on the right',\n",
        "            25:'Road work',\n",
        "            26:'Traffic signals',\n",
        "            27:'Pedestrians',\n",
        "            28:'Children crossing',\n",
        "            29:'Bicycles crossing',\n",
        "            30:'Beware of ice/snow',\n",
        "            31:'Wild animals crossing',\n",
        "            32:'End speed + passing limits',\n",
        "            33:'Turn right ahead',\n",
        "            34:'Turn left ahead',\n",
        "            35:'Ahead only',\n",
        "            36:'Go straight or right',\n",
        "            37:'Go straight or left',\n",
        "            38:'Keep right',\n",
        "            39:'Keep left',\n",
        "            40:'Roundabout mandatory',\n",
        "            41:'End of no passing',\n",
        "            42:'End no passing veh > 3.5 tons' }"
      ],
      "metadata": {
        "id": "Pfht1B2oJxvS"
      },
      "execution_count": 30,
      "outputs": []
    },
    {
      "cell_type": "code",
      "source": [
        "from PIL import Image\n",
        "\n",
        "def test_on_img(img):\n",
        "    data=[]\n",
        "    image = Image.open(img)\n",
        "    image = image.resize((30,30))\n",
        "    data.append(np.array(image))\n",
        "    X_test=np.array(data)\n",
        "    Y_pred = model.predict(X_test)\n",
        "    Y_pred = np.argmax(model.predict(X_test))\n",
        "    return image,Y_pred\n",
        "\n"
      ],
      "metadata": {
        "id": "lctoZidfKQeX"
      },
      "execution_count": 44,
      "outputs": []
    },
    {
      "cell_type": "code",
      "source": [],
      "metadata": {
        "id": "FZc6H1GJMuBC"
      },
      "execution_count": null,
      "outputs": []
    },
    {
      "cell_type": "code",
      "source": [
        "plot,prediction = test_on_img(r'/content/Data/Test/00069.png')\n",
        "\n",
        "# prediction = str(prediction)\n",
        "# print(type(prediction))\n",
        "\n",
        "# s = [str(i) for i in prediction]\n",
        "# a = int(\"\".join(s))\n",
        "print(\"Predicted traffic sign is: \", classes[prediction])\n",
        "plt.imshow(plot)\n",
        "plt.show()"
      ],
      "metadata": {
        "colab": {
          "base_uri": "https://localhost:8080/",
          "height": 482
        },
        "id": "cGjg7Fz8K_Xy",
        "outputId": "c1d782c1-3413-4864-ba18-ed286684d5e0"
      },
      "execution_count": 52,
      "outputs": [
        {
          "output_type": "stream",
          "name": "stdout",
          "text": [
            "1/1 [==============================] - 0s 93ms/step\n",
            "1/1 [==============================] - 0s 94ms/step\n",
            "Predicted traffic sign is:  Children crossing\n"
          ]
        },
        {
          "output_type": "display_data",
          "data": {
            "text/plain": [
              "<Figure size 640x480 with 1 Axes>"
            ],
            "image/png": "[encoded data removed]"
          },
          "metadata": {}
        }
      ]
    },
    {
      "cell_type": "code",
      "source": [],
      "metadata": {
        "id": "8xLBw7GaMzMr"
      },
      "execution_count": null,
      "outputs": []
    }
  ],
  "metadata": {
    "colab": {
      "provenance": []
    },
    "kernelspec": {
      "display_name": "Python 3",
      "name": "python3"
    },
    "language_info": {
      "name": "python"
    }
  },
  "nbformat": 4,
  "nbformat_minor": 0
}